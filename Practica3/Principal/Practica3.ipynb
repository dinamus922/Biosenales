{
 "cells": [
  {
   "cell_type": "markdown",
   "id": "73e633df",
   "metadata": {},
   "source": [
    "1. Calcular el valor cuadrático medio (RMS) de la señal signals.mat. \n",
    "Corresponde a señales de ECG y EMG\n",
    "\n",
    "Las señales se adquirieron a una tasa de muestreo de 1024 Hz. El registro correspondiente a las señales tal cual se registraron corresponde al campo asRecording de los archivos entregados. Las señales se sometieron a un proceso de filtrado el cual corresponde al campo filtered."
   ]
  },
  {
   "cell_type": "code",
   "execution_count": 4,
   "id": "f2ecb155",
   "metadata": {},
   "outputs": [
    {
     "name": "stdout",
     "output_type": "stream",
     "text": [
      "Collecting scipy\n",
      "  Downloading scipy-1.15.2-cp313-cp313-win_amd64.whl.metadata (60 kB)\n",
      "Collecting numpy<2.5,>=1.23.5 (from scipy)\n",
      "  Downloading numpy-2.2.4-cp313-cp313-win_amd64.whl.metadata (60 kB)\n",
      "Downloading scipy-1.15.2-cp313-cp313-win_amd64.whl (41.0 MB)\n",
      "   ---------------------------------------- 0.0/41.0 MB ? eta -:--:--\n",
      "   ---------------------------------------- 0.0/41.0 MB ? eta -:--:--\n",
      "   ---------------------------------------- 0.0/41.0 MB ? eta -:--:--\n",
      "   ---------------------------------------- 0.3/41.0 MB ? eta -:--:--\n",
      "   ---------------------------------------- 0.3/41.0 MB ? eta -:--:--\n",
      "   ---------------------------------------- 0.3/41.0 MB ? eta -:--:--\n",
      "    --------------------------------------- 0.5/41.0 MB 461.9 kB/s eta 0:01:28\n",
      "   - -------------------------------------- 1.0/41.0 MB 943.1 kB/s eta 0:00:43\n",
      "   -- ------------------------------------- 2.4/41.0 MB 2.0 MB/s eta 0:00:20\n",
      "   ---- ----------------------------------- 4.2/41.0 MB 3.1 MB/s eta 0:00:12\n",
      "   ------ --------------------------------- 6.3/41.0 MB 4.1 MB/s eta 0:00:09\n",
      "   ------- -------------------------------- 7.6/41.0 MB 4.5 MB/s eta 0:00:08\n",
      "   --------- ------------------------------ 10.0/41.0 MB 5.2 MB/s eta 0:00:07\n",
      "   ------------ --------------------------- 12.3/41.0 MB 5.8 MB/s eta 0:00:05\n",
      "   -------------- ------------------------- 14.7/41.0 MB 6.3 MB/s eta 0:00:05\n",
      "   ---------------- ----------------------- 17.0/41.0 MB 6.7 MB/s eta 0:00:04\n",
      "   ------------------ --------------------- 19.4/41.0 MB 7.1 MB/s eta 0:00:04\n",
      "   --------------------- ------------------ 21.8/41.0 MB 7.4 MB/s eta 0:00:03\n",
      "   ----------------------- ---------------- 24.1/41.0 MB 7.7 MB/s eta 0:00:03\n",
      "   ------------------------- -------------- 25.7/41.0 MB 7.7 MB/s eta 0:00:02\n",
      "   -------------------------- ------------- 27.5/41.0 MB 7.7 MB/s eta 0:00:02\n",
      "   ---------------------------- ----------- 29.1/41.0 MB 7.7 MB/s eta 0:00:02\n",
      "   ----------------------------- ---------- 30.7/41.0 MB 7.7 MB/s eta 0:00:02\n",
      "   ------------------------------- -------- 32.5/41.0 MB 7.8 MB/s eta 0:00:02\n",
      "   --------------------------------- ------ 34.1/41.0 MB 7.8 MB/s eta 0:00:01\n",
      "   ----------------------------------- ---- 35.9/41.0 MB 7.8 MB/s eta 0:00:01\n",
      "   ------------------------------------- -- 38.0/41.0 MB 7.9 MB/s eta 0:00:01\n",
      "   -------------------------------------- - 39.8/41.0 MB 7.9 MB/s eta 0:00:01\n",
      "   ---------------------------------------- 41.0/41.0 MB 7.9 MB/s eta 0:00:00\n",
      "Downloading numpy-2.2.4-cp313-cp313-win_amd64.whl (12.6 MB)\n",
      "   ---------------------------------------- 0.0/12.6 MB ? eta -:--:--\n",
      "   ----- ---------------------------------- 1.8/12.6 MB 9.3 MB/s eta 0:00:02\n",
      "   ----------- ---------------------------- 3.7/12.6 MB 8.7 MB/s eta 0:00:02\n",
      "   --------------- ------------------------ 5.0/12.6 MB 8.2 MB/s eta 0:00:01\n",
      "   -------------------- ------------------- 6.6/12.6 MB 7.9 MB/s eta 0:00:01\n",
      "   ------------------------ --------------- 7.9/12.6 MB 7.7 MB/s eta 0:00:01\n",
      "   ----------------------------- ---------- 9.2/12.6 MB 7.4 MB/s eta 0:00:01\n",
      "   ---------------------------------- ----- 10.7/12.6 MB 7.4 MB/s eta 0:00:01\n",
      "   -------------------------------------- - 12.3/12.6 MB 7.4 MB/s eta 0:00:01\n",
      "   ---------------------------------------- 12.6/12.6 MB 7.3 MB/s eta 0:00:00\n",
      "Installing collected packages: numpy, scipy\n",
      "Successfully installed numpy-2.2.4 scipy-1.15.2\n",
      "Note: you may need to restart the kernel to use updated packages.\n"
     ]
    }
   ],
   "source": [
    "pip install scipy"
   ]
  },
  {
   "cell_type": "markdown",
   "id": "6781dc1d",
   "metadata": {},
   "source": [
    "Primero importamos los datos y visualizamos el diccionario"
   ]
  },
  {
   "cell_type": "code",
   "execution_count": 10,
   "id": "762720a6",
   "metadata": {},
   "outputs": [
    {
     "name": "stdout",
     "output_type": "stream",
     "text": [
      "Claves en el archivo .mat:\n",
      "dict_keys(['__header__', '__version__', '__globals__', 'Fs', 'ECG_asRecording', 'ECG_filtered', 'EMG_filtered1', 'EMG_filtered2', 'EMG_asRecording1', 'EMG_asRecording2'])\n",
      "\n",
      "Datos en __header__:\n",
      "\n",
      "b'MATLA'\n",
      "\n",
      "Datos en __version__:\n",
      "\n",
      "1.0\n",
      "\n",
      "Datos en __globals__:\n",
      "\n",
      "[]\n",
      "\n",
      "Datos en Fs:\n",
      "\n",
      "[[1024]]\n",
      "\n",
      "Datos en ECG_asRecording:\n",
      "\n",
      "[[3904.31689453 3939.203125   3976.00683594 ... 4366.41064453\n",
      "  4365.31103516 4370.91796875]]\n",
      "\n",
      "Datos en ECG_filtered:\n",
      "\n",
      "[[ 8.87103896e-03  5.62737497e+01  8.57077127e+01 ... -1.20952610e+02\n",
      "  -1.31734356e+02 -1.32898021e+02]]\n",
      "\n",
      "Datos en EMG_filtered1:\n",
      "\n",
      "[[ 17.65905117  19.41391578  18.89666666 ... 242.49414224 220.4135886\n",
      "  151.5810508 ]]\n",
      "\n",
      "Datos en EMG_filtered2:\n",
      "\n",
      "[[  21.1780547   -79.82418538 -133.65960989 ... -384.58994036\n",
      "  -539.9349533  -772.65519631]]\n",
      "\n",
      "Datos en EMG_asRecording1:\n",
      "\n",
      "[[ 908.07531738  903.17706299  896.62982178 ... 1433.91882324\n",
      "  1416.109375   1352.75012207]]\n",
      "\n",
      "Datos en EMG_asRecording2:\n",
      "\n",
      "[[-3109.97558594 -3231.01391602 -3302.34960938 ... -3791.24267578\n",
      "  -3924.6550293  -4109.94433594]]\n"
     ]
    }
   ],
   "source": [
    "import scipy.io\n",
    "import numpy as np\n",
    "\n",
    "# Cargar el archivo .mat\n",
    "mat_data = scipy.io.loadmat('signals.mat')\n",
    "\n",
    "# Mostrar las claves del diccionario\n",
    "print(\"Claves en el archivo .mat:\")\n",
    "print(mat_data.keys())\n",
    "\n",
    "# Mostrar una parte de los datos\n",
    "for key in mat_data:\n",
    "    print(f\"\\nDatos en {key}:\\n\")\n",
    "    print(mat_data[key][:5])  # Muestra las primeras 5 muestras de cada conjunto de datos"
   ]
  },
  {
   "cell_type": "code",
   "execution_count": 14,
   "id": "7eabc39b",
   "metadata": {},
   "outputs": [
    {
     "name": "stdout",
     "output_type": "stream",
     "text": [
      "Collecting matplotlib\n",
      "  Downloading matplotlib-3.10.1-cp313-cp313-win_amd64.whl.metadata (11 kB)\n",
      "Collecting contourpy>=1.0.1 (from matplotlib)\n",
      "  Downloading contourpy-1.3.1-cp313-cp313-win_amd64.whl.metadata (5.4 kB)\n",
      "Collecting cycler>=0.10 (from matplotlib)\n",
      "  Using cached cycler-0.12.1-py3-none-any.whl.metadata (3.8 kB)\n",
      "Collecting fonttools>=4.22.0 (from matplotlib)\n",
      "  Downloading fonttools-4.57.0-cp313-cp313-win_amd64.whl.metadata (104 kB)\n",
      "Collecting kiwisolver>=1.3.1 (from matplotlib)\n",
      "  Downloading kiwisolver-1.4.8-cp313-cp313-win_amd64.whl.metadata (6.3 kB)\n",
      "Requirement already satisfied: numpy>=1.23 in c:\\trabajosu2025-1\\biosenales\\practica3\\.venv\\lib\\site-packages (from matplotlib) (2.2.4)\n",
      "Requirement already satisfied: packaging>=20.0 in c:\\trabajosu2025-1\\biosenales\\practica3\\.venv\\lib\\site-packages (from matplotlib) (24.2)\n",
      "Collecting pillow>=8 (from matplotlib)\n",
      "  Downloading pillow-11.1.0-cp313-cp313-win_amd64.whl.metadata (9.3 kB)\n",
      "Collecting pyparsing>=2.3.1 (from matplotlib)\n",
      "  Using cached pyparsing-3.2.3-py3-none-any.whl.metadata (5.0 kB)\n",
      "Requirement already satisfied: python-dateutil>=2.7 in c:\\trabajosu2025-1\\biosenales\\practica3\\.venv\\lib\\site-packages (from matplotlib) (2.9.0.post0)\n",
      "Requirement already satisfied: six>=1.5 in c:\\trabajosu2025-1\\biosenales\\practica3\\.venv\\lib\\site-packages (from python-dateutil>=2.7->matplotlib) (1.17.0)\n",
      "Downloading matplotlib-3.10.1-cp313-cp313-win_amd64.whl (8.1 MB)\n",
      "   ---------------------------------------- 0.0/8.1 MB ? eta -:--:--\n",
      "   ------- -------------------------------- 1.6/8.1 MB 9.1 MB/s eta 0:00:01\n",
      "   ------------------ --------------------- 3.7/8.1 MB 10.5 MB/s eta 0:00:01\n",
      "   ----------------------------- ---------- 6.0/8.1 MB 10.9 MB/s eta 0:00:01\n",
      "   ---------------------------------------- 8.1/8.1 MB 10.8 MB/s eta 0:00:00\n",
      "Downloading contourpy-1.3.1-cp313-cp313-win_amd64.whl (220 kB)\n",
      "Using cached cycler-0.12.1-py3-none-any.whl (8.3 kB)\n",
      "Downloading fonttools-4.57.0-cp313-cp313-win_amd64.whl (2.2 MB)\n",
      "   ---------------------------------------- 0.0/2.2 MB ? eta -:--:--\n",
      "   ---------------------------------------- 2.2/2.2 MB 11.2 MB/s eta 0:00:00\n",
      "Downloading kiwisolver-1.4.8-cp313-cp313-win_amd64.whl (71 kB)\n",
      "Downloading pillow-11.1.0-cp313-cp313-win_amd64.whl (2.6 MB)\n",
      "   ---------------------------------------- 0.0/2.6 MB ? eta -:--:--\n",
      "   ----------------------------------- ---- 2.4/2.6 MB 11.5 MB/s eta 0:00:01\n",
      "   ---------------------------------------- 2.6/2.6 MB 10.5 MB/s eta 0:00:00\n",
      "Using cached pyparsing-3.2.3-py3-none-any.whl (111 kB)\n",
      "Installing collected packages: pyparsing, pillow, kiwisolver, fonttools, cycler, contourpy, matplotlib\n",
      "Successfully installed contourpy-1.3.1 cycler-0.12.1 fonttools-4.57.0 kiwisolver-1.4.8 matplotlib-3.10.1 pillow-11.1.0 pyparsing-3.2.3\n",
      "Note: you may need to restart the kernel to use updated packages.\n"
     ]
    }
   ],
   "source": [
    "pip install matplotlib"
   ]
  },
  {
   "cell_type": "code",
   "execution_count": 15,
   "id": "e9a3b945",
   "metadata": {},
   "outputs": [
    {
     "data": {
      "image/png": "[encoded data removed]",
      "text/plain": [
       "<Figure size 640x480 with 1 Axes>"
      ]
     },
     "metadata": {},
     "output_type": "display_data"
    }
   ],
   "source": [
    "import matplotlib.pyplot as plt\n",
    "\n",
    "# Cargar la señal cruda de ECG\n",
    "senal_ecg = mat_data['ECG_asRecording']\n",
    "\n",
    "# Graficar la señal del primer canal (o la señal completa si es 1D)\n",
    "plt.plot(senal_ecg[0, :])  # Suponiendo que la matriz tiene la forma [muestras, canales]\n",
    "plt.title('Señal ECG Cruda')\n",
    "plt.xlabel('Muestras')\n",
    "plt.ylabel('Amplitud')\n",
    "plt.show()"
   ]
  },
  {
   "cell_type": "code",
   "execution_count": 16,
   "id": "4a1752fe",
   "metadata": {},
   "outputs": [
    {
     "name": "stdout",
     "output_type": "stream",
     "text": [
      "RMS de la señal ECG: 4392.9682937490725\n"
     ]
    }
   ],
   "source": [
    "import numpy as np\n",
    "\n",
    "# Cargar la señal cruda de ECG\n",
    "senal_ecg = mat_data['ECG_asRecording']  # Cambia el nombre si es otro campo\n",
    "\n",
    "# Calcular el valor RMS para el primer canal (o toda la señal si es 1D)\n",
    "def calcular_rms(signal):\n",
    "    N = len(signal)  # Número de muestras\n",
    "    rms = np.sqrt(np.sum(signal**2) / N)  # Fórmula RMS\n",
    "    return rms\n",
    "\n",
    "# Aplicar la función para la señal\n",
    "rms_ecg = calcular_rms(senal_ecg[0, :])  # Suponiendo que tienes una matriz [muestras, canales]\n",
    "print(f'RMS de la señal ECG: {rms_ecg}')"
   ]
  }
 ],
 "metadata": {
  "kernelspec": {
   "display_name": ".venv",
   "language": "python",
   "name": "python3"
  },
  "language_info": {
   "codemirror_mode": {
    "name": "ipython",
    "version": 3
   },
   "file_extension": ".py",
   "mimetype": "text/x-python",
   "name": "python",
   "nbconvert_exporter": "python",
   "pygments_lexer": "ipython3",
   "version": "3.13.2"
  }
 },
 "nbformat": 4,
 "nbformat_minor": 5
}
