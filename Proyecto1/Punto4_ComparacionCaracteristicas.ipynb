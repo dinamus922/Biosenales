{
 "cells": [
  {
   "cell_type": "markdown",
   "id": "5f94fe38",
   "metadata": {},
   "source": [
    "# Análisis 4: Comparación de características entre grupos"
   ]
  },
  {
   "cell_type": "markdown",
   "id": "7cd6910a",
   "metadata": {},
   "source": [
    "## 1. Comparar diferentes características de HRV (por ejemplo, SDNN, RMSSD o LF/HF) obtenidas en el Análisis 3"
   ]
  },
  {
   "cell_type": "code",
   "execution_count": 7,
   "id": "d9da83ee",
   "metadata": {},
   "outputs": [
    {
     "data": {
      "text/html": [
       "<div>\n",
       "<style scoped>\n",
       "    .dataframe tbody tr th:only-of-type {\n",
       "        vertical-align: middle;\n",
       "    }\n",
       "\n",
       "    .dataframe tbody tr th {\n",
       "        vertical-align: top;\n",
       "    }\n",
       "\n",
       "    .dataframe thead th {\n",
       "        text-align: right;\n",
       "    }\n",
       "</style>\n",
       "<table border=\"1\" class=\"dataframe\">\n",
       "  <thead>\n",
       "    <tr style=\"text-align: right;\">\n",
       "      <th></th>\n",
       "      <th>FileName</th>\n",
       "      <th>Rhythm</th>\n",
       "      <th>Beat</th>\n",
       "      <th>PatientAge</th>\n",
       "      <th>Gender</th>\n",
       "      <th>VentricularRate</th>\n",
       "      <th>AtrialRate</th>\n",
       "      <th>QRSDuration</th>\n",
       "      <th>QTInterval</th>\n",
       "      <th>QTCorrected</th>\n",
       "      <th>...</th>\n",
       "      <th>QRSCount</th>\n",
       "      <th>QOnset</th>\n",
       "      <th>QOffset</th>\n",
       "      <th>TOffset</th>\n",
       "      <th>AgeGroup</th>\n",
       "      <th>SDNN</th>\n",
       "      <th>RMSSD</th>\n",
       "      <th>LFHF_NeuroKit</th>\n",
       "      <th>LFHF_NumPy</th>\n",
       "      <th>R_Peaks</th>\n",
       "    </tr>\n",
       "  </thead>\n",
       "  <tbody>\n",
       "    <tr>\n",
       "      <th>0</th>\n",
       "      <td>MUSE_20180712_160452_75000</td>\n",
       "      <td>AFIB</td>\n",
       "      <td>LVH</td>\n",
       "      <td>74</td>\n",
       "      <td>MALE</td>\n",
       "      <td>49</td>\n",
       "      <td>57</td>\n",
       "      <td>92</td>\n",
       "      <td>488</td>\n",
       "      <td>440</td>\n",
       "      <td>...</td>\n",
       "      <td>7</td>\n",
       "      <td>221</td>\n",
       "      <td>267</td>\n",
       "      <td>465</td>\n",
       "      <td>61-80</td>\n",
       "      <td>NaN</td>\n",
       "      <td>NaN</td>\n",
       "      <td>NaN</td>\n",
       "      <td>NaN</td>\n",
       "      <td>[ 546 1147 1659 1931 2494 3109 3732 4188 4797]</td>\n",
       "    </tr>\n",
       "    <tr>\n",
       "      <th>1</th>\n",
       "      <td>MUSE_20180118_131905_87000</td>\n",
       "      <td>AFIB</td>\n",
       "      <td>TWC</td>\n",
       "      <td>72</td>\n",
       "      <td>MALE</td>\n",
       "      <td>151</td>\n",
       "      <td>170</td>\n",
       "      <td>84</td>\n",
       "      <td>298</td>\n",
       "      <td>472</td>\n",
       "      <td>...</td>\n",
       "      <td>25</td>\n",
       "      <td>210</td>\n",
       "      <td>252</td>\n",
       "      <td>359</td>\n",
       "      <td>61-80</td>\n",
       "      <td>47.066012</td>\n",
       "      <td>64.286291</td>\n",
       "      <td>NaN</td>\n",
       "      <td>NaN</td>\n",
       "      <td>[ 256  443  685  905 1146 1335 1524 1763 1970 ...</td>\n",
       "    </tr>\n",
       "    <tr>\n",
       "      <th>2</th>\n",
       "      <td>MUSE_20180114_071444_05000</td>\n",
       "      <td>AFIB</td>\n",
       "      <td>TWC</td>\n",
       "      <td>74</td>\n",
       "      <td>MALE</td>\n",
       "      <td>107</td>\n",
       "      <td>108</td>\n",
       "      <td>82</td>\n",
       "      <td>342</td>\n",
       "      <td>456</td>\n",
       "      <td>...</td>\n",
       "      <td>18</td>\n",
       "      <td>216</td>\n",
       "      <td>257</td>\n",
       "      <td>387</td>\n",
       "      <td>61-80</td>\n",
       "      <td>107.932618</td>\n",
       "      <td>182.181594</td>\n",
       "      <td>NaN</td>\n",
       "      <td>NaN</td>\n",
       "      <td>[ 296  568  861 1263 1511 1845 2101 2429 2657 ...</td>\n",
       "    </tr>\n",
       "    <tr>\n",
       "      <th>3</th>\n",
       "      <td>MUSE_20180114_132956_24000</td>\n",
       "      <td>AFIB</td>\n",
       "      <td>LVHV TWC</td>\n",
       "      <td>68</td>\n",
       "      <td>MALE</td>\n",
       "      <td>95</td>\n",
       "      <td>87</td>\n",
       "      <td>84</td>\n",
       "      <td>334</td>\n",
       "      <td>419</td>\n",
       "      <td>...</td>\n",
       "      <td>16</td>\n",
       "      <td>228</td>\n",
       "      <td>270</td>\n",
       "      <td>395</td>\n",
       "      <td>61-80</td>\n",
       "      <td>122.117670</td>\n",
       "      <td>155.869768</td>\n",
       "      <td>NaN</td>\n",
       "      <td>NaN</td>\n",
       "      <td>[ 531  838 1200 1515 1852 2238 2531 2774 3000 ...</td>\n",
       "    </tr>\n",
       "    <tr>\n",
       "      <th>4</th>\n",
       "      <td>MUSE_20180118_124852_18000</td>\n",
       "      <td>AFIB</td>\n",
       "      <td>STTU</td>\n",
       "      <td>78</td>\n",
       "      <td>MALE</td>\n",
       "      <td>97</td>\n",
       "      <td>153</td>\n",
       "      <td>104</td>\n",
       "      <td>344</td>\n",
       "      <td>436</td>\n",
       "      <td>...</td>\n",
       "      <td>16</td>\n",
       "      <td>221</td>\n",
       "      <td>273</td>\n",
       "      <td>393</td>\n",
       "      <td>61-80</td>\n",
       "      <td>72.790109</td>\n",
       "      <td>87.143560</td>\n",
       "      <td>NaN</td>\n",
       "      <td>NaN</td>\n",
       "      <td>[ 302  583  907 1154 1445 1755 2059 2368 2645 ...</td>\n",
       "    </tr>\n",
       "  </tbody>\n",
       "</table>\n",
       "<p>5 rows × 22 columns</p>\n",
       "</div>"
      ],
      "text/plain": [
       "                     FileName Rhythm      Beat  PatientAge Gender  \\\n",
       "0  MUSE_20180712_160452_75000   AFIB       LVH          74   MALE   \n",
       "1  MUSE_20180118_131905_87000   AFIB       TWC          72   MALE   \n",
       "2  MUSE_20180114_071444_05000   AFIB       TWC          74   MALE   \n",
       "3  MUSE_20180114_132956_24000   AFIB  LVHV TWC          68   MALE   \n",
       "4  MUSE_20180118_124852_18000   AFIB      STTU          78   MALE   \n",
       "\n",
       "   VentricularRate  AtrialRate  QRSDuration  QTInterval  QTCorrected  ...  \\\n",
       "0               49          57           92         488          440  ...   \n",
       "1              151         170           84         298          472  ...   \n",
       "2              107         108           82         342          456  ...   \n",
       "3               95          87           84         334          419  ...   \n",
       "4               97         153          104         344          436  ...   \n",
       "\n",
       "   QRSCount  QOnset  QOffset  TOffset  AgeGroup        SDNN       RMSSD  \\\n",
       "0         7     221      267      465     61-80         NaN         NaN   \n",
       "1        25     210      252      359     61-80   47.066012   64.286291   \n",
       "2        18     216      257      387     61-80  107.932618  182.181594   \n",
       "3        16     228      270      395     61-80  122.117670  155.869768   \n",
       "4        16     221      273      393     61-80   72.790109   87.143560   \n",
       "\n",
       "   LFHF_NeuroKit  LFHF_NumPy  \\\n",
       "0            NaN         NaN   \n",
       "1            NaN         NaN   \n",
       "2            NaN         NaN   \n",
       "3            NaN         NaN   \n",
       "4            NaN         NaN   \n",
       "\n",
       "                                             R_Peaks  \n",
       "0     [ 546 1147 1659 1931 2494 3109 3732 4188 4797]  \n",
       "1  [ 256  443  685  905 1146 1335 1524 1763 1970 ...  \n",
       "2  [ 296  568  861 1263 1511 1845 2101 2429 2657 ...  \n",
       "3  [ 531  838 1200 1515 1852 2238 2531 2774 3000 ...  \n",
       "4  [ 302  583  907 1154 1445 1755 2059 2368 2645 ...  \n",
       "\n",
       "[5 rows x 22 columns]"
      ]
     },
     "execution_count": 7,
     "metadata": {},
     "output_type": "execute_result"
    }
   ],
   "source": [
    "import pandas as pd\n",
    "\n",
    "# Cargar el archivo de características de HRV calculadas\n",
    "archivo = './Data/DatosFinalNk2.xlsx'\n",
    "df = pd.read_excel(archivo)\n",
    "\n",
    "# Mostrar las primeras filas para ver cómo está estructurado\n",
    "df.head()\n"
   ]
  },
  {
   "cell_type": "markdown",
   "id": "b6618a46",
   "metadata": {},
   "source": [
    "### Comparación 1: SDNN (Desviación estandar de los intervalos entre latidos RR normales)\n",
    "Ésta comparación mire la variabilidad global de la frecuencia cardiaca. Captura todas las fluctiaciones del ritmo cardiaco, tando como cambios lentos (como dormir), así como cambios rápidos (como estar estresado). Un SDNN muy bajo puede indicar estrés ó enfermedad."
   ]
  },
  {
   "cell_type": "code",
   "execution_count": null,
   "id": "bfb66599",
   "metadata": {},
   "outputs": [
    {
     "name": "stdout",
     "output_type": "stream",
     "text": [
      "Resumen SDNN por grupo:\n",
      "              mean        std\n",
      "Rhythm                       \n",
      "AF       68.441106  63.353489\n",
      "AFIB    119.549979  43.699818\n",
      "AT       77.684363  71.225074\n",
      "SA       72.833422  29.433099\n",
      "SB      236.060879  78.128803\n",
      "SR       22.505792  30.860664\n",
      "ST       14.622280  29.638311\n",
      "SVT      10.913614  33.003704\n"
     ]
    },
    {
     "data": {
      "text/plain": [
       "<Figure size 800x500 with 0 Axes>"
      ]
     },
     "metadata": {},
     "output_type": "display_data"
    },
    {
     "data": {
      "image/png": "[encoded data removed]",
      "text/plain": [
       "<Figure size 640x480 with 1 Axes>"
      ]
     },
     "metadata": {},
     "output_type": "display_data"
    }
   ],
   "source": [
    "import pandas as pd\n",
    "import matplotlib.pyplot as plt\n",
    "\n",
    "# Definir la característica a analizar\n",
    "caracteristica = 'SDNN'\n",
    "\n",
    "# Calcular media y desviación estándar por grupo\n",
    "resumen_sdnn = df.groupby('Rhythm')[caracteristica].agg(['mean', 'std'])\n",
    "print(\"Resumen SDNN por grupo:\")\n",
    "print(resumen_sdnn)\n",
    "\n",
    "# Graficar\n",
    "plt.figure(figsize=(8,5))\n",
    "df.boxplot(column=caracteristica, by='Rhythm')\n",
    "plt.title(f'Comparación de {caracteristica} entre grupos')\n",
    "plt.suptitle('')\n",
    "plt.xlabel('Rhythm')\n",
    "plt.ylabel(caracteristica)\n",
    "plt.grid(True)\n",
    "plt.show()\n"
   ]
  },
  {
   "cell_type": "markdown",
   "id": "0cd5e3d7",
   "metadata": {},
   "source": [
    "La variabilidad de la frecuencia cardíaca medida a través de SDNN muestra diferencias claras entre los ritmos cardíacos. La bradicardia sinusal (SB) presentó los valores más altos de SDNN, mientras que los ritmos rápidos como ST y SVT mostraron las menores variabilidades. En ritmos normales (SR), aunque la mediana de SDNN es baja, se observa una dispersión significativa con algunos pacientes mostrando alta variabilidad, consistente con la variabilidad fisiológica normal.\n",
    "\n",
    "En la comparación del SDNN entre los grupos podemos ver que:\n",
    "AF y AT tienen una mediana algo baja (más o menos 50-70%), y son bastante variables, con muchas diferencias entre pacientes.\n",
    "AFIB muestra una mediana más alta que AF y AT, además de una variabilidad grande entre los pacientes.\n",
    "SA muestra valores de SDNN más vajos, indicando que los valores están más agrupados.\n",
    "SB muestra una mediana más alta, su mediana es bastante elevada, es quien tiene mayor SDNN de todos los grupos de pacientes.\n",
    "SR (ritmo sinusal normal) tiene una mediana baja pero muchos valores atípicos, indicando que personas sanas pueden tener variabilidad diversa.\n",
    "ST y SVT (taquicardias) muestran un SDNN muy bajo, con muchos valores atípicos, mostrando mucha variabilidad entre pacientes."
   ]
  },
  {
   "cell_type": "markdown",
   "id": "3db3ad6c",
   "metadata": {},
   "source": [
    "### Comparación 2: RMSSD (Raíz cuadrada de la media de las diferencias sucesivas entre intervalos RR)\n",
    "Mide la variabilidad a corto plazo de los latidos cardiacos, no mira cambios lentos o a corto plazo como SDNN, sino que mira cómo cambia el latido de un latido a otro (como la respiración). Un RMSSD muy bajo puede indicar estrés, fatiga ó enfermedad."
   ]
  },
  {
   "cell_type": "code",
   "execution_count": 15,
   "id": "67009380",
   "metadata": {},
   "outputs": [
    {
     "name": "stdout",
     "output_type": "stream",
     "text": [
      "Resumen RMSSD por grupo:\n",
      "              mean         std\n",
      "Rhythm                        \n",
      "AF       93.438305   88.297824\n",
      "AFIB    162.575638   65.421847\n",
      "AT      105.001802  103.529605\n",
      "SA       72.519079   46.649850\n",
      "SB      371.676431  126.039218\n",
      "SR       24.170705   42.835322\n",
      "ST       17.542498   43.949764\n",
      "SVT      12.934841   44.122263\n"
     ]
    },
    {
     "data": {
      "text/plain": [
       "<Figure size 800x500 with 0 Axes>"
      ]
     },
     "metadata": {},
     "output_type": "display_data"
    },
    {
     "data": {
      "image/png": "[encoded data removed]",
      "text/plain": [
       "<Figure size 640x480 with 1 Axes>"
      ]
     },
     "metadata": {},
     "output_type": "display_data"
    }
   ],
   "source": [
    "# Definir la característica a analizar\n",
    "caracteristica = 'RMSSD'\n",
    "\n",
    "# Calcular media y desviación estándar por grupo\n",
    "resumen_rmssd = df.groupby('Rhythm')[caracteristica].agg(['mean', 'std'])\n",
    "print(\"Resumen RMSSD por grupo:\")\n",
    "print(resumen_rmssd)\n",
    "\n",
    "# Graficar\n",
    "plt.figure(figsize=(8,5))\n",
    "df.boxplot(column=caracteristica, by='Rhythm')\n",
    "plt.title(f'Comparación de {caracteristica} entre grupos')\n",
    "plt.suptitle('')\n",
    "plt.xlabel('Rhythm')\n",
    "plt.ylabel(caracteristica)\n",
    "plt.grid(True)\n",
    "plt.show()\n"
   ]
  },
  {
   "cell_type": "markdown",
   "id": "f9baed6a",
   "metadata": {},
   "source": [
    "El análisis de RMSSD entre grupos muestra patrones similares a los observados en SDNN. La bradicardia sinusal (SB) presentó los valores de RMSSD más elevados, reflejando una alta variabilidad de corto plazo. En contraste, los ritmos taquicárdicos (ST y SVT) mostraron valores muy bajos de RMSSD, como es característico en ritmos rápidos donde las diferencias entre intervalos RR sucesivos son mínimas. Los ritmos normales (SR) mostraron una mediana baja de RMSSD, pero con una gran cantidad de valores atípicos, lo cual concuerda con la variabilidad fisiológica individual en sujetos sanos.\n",
    "\n",
    "SB (Bradicardia sinusal) tiene los valores de RMSSD más altos, pero con gran variabilidad respiratoria.\n",
    "SR (sinusal normal) tiene mediana baja, pero muchos casos extremos de RMSSD altos, mostrando que existe variabilidad fisiológica normal en personas sanas.\n",
    "ST y SVT (taquicardias) tienen el RMSSD más bajo, mostrando que en ritmos rápidos, el intervalo RR cambia poco de latido a latido, sin embargo, tienen muchos valores atípicos\n",
    "AF y AFIB muestran mucha dispersión, algunos pacientes con fibrilación presentan alta variabilidad y otros muy poca.\n",
    "\n"
   ]
  },
  {
   "cell_type": "markdown",
   "id": "175dcd41",
   "metadata": {},
   "source": [
    " ### Comparación 3: LFHF_NeuroKit (Cociente entre la energía en la banda de baja frecuencia (LF) y la alta frecuencia (HF) en el espectro de frecuencias de la HRV)\n",
    " Indica el balance autónomo entre el S. Simpático y el Parasimpático. Un LF/HF alto, indica predominio del simpático, y un LF/HF bajo indica prediminio del parasimpático."
   ]
  },
  {
   "cell_type": "code",
   "execution_count": 17,
   "id": "6b86011f",
   "metadata": {},
   "outputs": [
    {
     "name": "stdout",
     "output_type": "stream",
     "text": [
      "Resumen LFHF_NeuroKit por grupo:\n",
      "        mean  std\n",
      "Rhythm           \n",
      "AF       NaN  NaN\n",
      "AFIB     NaN  NaN\n",
      "AT       NaN  NaN\n",
      "SA       NaN  NaN\n",
      "SB       NaN  NaN\n",
      "SR       NaN  NaN\n",
      "ST       NaN  NaN\n",
      "SVT      NaN  NaN\n"
     ]
    },
    {
     "data": {
      "text/plain": [
       "<Figure size 800x500 with 0 Axes>"
      ]
     },
     "metadata": {},
     "output_type": "display_data"
    },
    {
     "data": {
      "image/png": "[encoded data removed]",
      "text/plain": [
       "<Figure size 640x480 with 1 Axes>"
      ]
     },
     "metadata": {},
     "output_type": "display_data"
    }
   ],
   "source": [
    "# Definir la característica a analizar\n",
    "caracteristica = 'LFHF_NeuroKit'\n",
    "\n",
    "# Calcular media y desviación estándar por grupo\n",
    "resumen_lfhf = df.groupby('Rhythm')[caracteristica].agg(['mean', 'std'])\n",
    "print(\"Resumen LFHF_NeuroKit por grupo:\")\n",
    "print(resumen_lfhf)\n",
    "\n",
    "# Graficar\n",
    "plt.figure(figsize=(8,5))\n",
    "df.boxplot(column=caracteristica, by='Rhythm')\n",
    "plt.title(f'Comparación de {caracteristica} entre grupos')\n",
    "plt.suptitle('')\n",
    "plt.xlabel('Rhythm')\n",
    "plt.ylabel(caracteristica)\n",
    "plt.grid(True)\n",
    "plt.show()\n"
   ]
  },
  {
   "cell_type": "markdown",
   "id": "cf18abff",
   "metadata": {},
   "source": [
    "Debido a que la mayoría de los datos de \"LFHF_NeuroKit\" están vacíos (NaN), no podemos realizar una comparación entre ellos, por lo que el gráfico sale en blanco.\n",
    "Esto lo podemos comprobar con la siguiente línea de código\n",
    "Con la función isna(), identificaremos los valores NaN en el archivo"
   ]
  },
  {
   "cell_type": "markdown",
   "id": "71186f2c",
   "metadata": {},
   "source": []
  },
  {
   "cell_type": "code",
   "execution_count": 21,
   "id": "32396f69",
   "metadata": {},
   "outputs": [
    {
     "name": "stdout",
     "output_type": "stream",
     "text": [
      "Hay:  7480  datos vacíos de LFHF_Neutokit\n",
      "Hay:  0  datos no vacíos de LFHF_Neutokit\n"
     ]
    }
   ],
   "source": [
    "CantidadNaN = df['LFHF_NeuroKit'].isna().sum()\n",
    "CantidadconDatos = df['LFHF_NeuroKit'].count()\n",
    "\n",
    "print(\"Hay: \", CantidadNaN, \" datos vacíos de LFHF_Neutokit\")\n",
    "print(\"Hay: \", CantidadconDatos, \" datos no vacíos de LFHF_Neutokit\")\n",
    "\n"
   ]
  },
  {
   "cell_type": "markdown",
   "id": "c2e020e4",
   "metadata": {},
   "source": [
    "Lo anterior nos indica que el análisis lo realizaremos sólamente con SDNN y RMSSD."
   ]
  },
  {
   "cell_type": "markdown",
   "id": "9416926b",
   "metadata": {},
   "source": [
    "## 2. Comparar esta característica entre los grupos usando pruebas de hipótesis y apoyándose en gráficos de estadística descriptiva."
   ]
  },
  {
   "cell_type": "markdown",
   "id": "679b1f65",
   "metadata": {},
   "source": [
    "Se decidió comparar sólamente algunos de los grupos para realizar las pruebas estadísticas, uno de ellos correspondientes a ritmo sinusal normal (SR) y fibrilación auricular (AFIB), debido a que, el ritmo sinusal (SR) representa el patrón eléctrico cardíaco normal, caracterizado por intervalos regulares entre latidos, por otro lado, AFIB es una de las arritmias más relevantes clínicamente, asociada a riesgos aumentados de accidente cerebrovascular e insuficiencia cardíaca. Lo que nos permitirá encontrar diferencias en la variabilidad de la frecuencia cardíaca (HRV) como SDNN y RMSSD.\n",
    "\n",
    "Además, se realizaron análisis adicionales entre otros grupos clínicamente relevantes. Se seleccionó la comparación entre SR y SB porque ambos corresponden a ritmos de origen sinusal, pero con diferencias fisiológicas ya que el ritmo sinusal normal presenta una frecuencia cardíaca dentro de rangos típicos, la bradicardia sinusal (SB) se caracteriza por una frecuencia cardíaca anormalmente baja, lo cual podría influir en la variabilidad de la frecuencia cardíaca (HRV).\n",
    "\n",
    "Por otro lado, se decidió comparar también ST y SVT debido a que ambos representan ritmos rápidos, aunque de diferente origen. ST corresponde a una taquicardia sinusal, generalmente benigna y adaptativa, mientras que SVT (taquicardia supraventricular) suele involucrar mecanismos patológicos de reentrada a nivel auricular o nodal. Esta comparación busca evaluar si las métricas de HRV son sensibles para distinguir entre taquicardias de diferente naturaleza.\n",
    "\n",
    "Para realizar las pruebas estadísticas, primero filtramos los datos de SR y AFIB, luego probamos la normalidad con Shapiro-Wilk para cada grupo. Seguidamente, según el resultado, si es normal, usamos t-test, y si no es normal, usamos Mann–Whitney U test (no paramétrica).\n"
   ]
  },
  {
   "cell_type": "markdown",
   "id": "7deae13b",
   "metadata": {},
   "source": [
    "### Código para comparar SDNN entre SR y AFIB usando pruebas estadísticas"
   ]
  },
  {
   "cell_type": "code",
   "execution_count": 37,
   "id": "1493e8f3",
   "metadata": {},
   "outputs": [
    {
     "name": "stdout",
     "output_type": "stream",
     "text": [
      "Normalidad SDNN - SR: ShapiroResult(statistic=np.float64(0.5143232748716621), pvalue=np.float64(2.1278037976251067e-37))\n",
      "Normalidad SDNN - AFIB: ShapiroResult(statistic=np.float64(0.967166824417059), pvalue=np.float64(8.818379597857182e-12))\n",
      "\n",
      "Prueba de Mann–Whitney U - SDNN\n",
      "U statistic: 12004.5\n",
      "P-value: 1.7511798538752282e-193\n",
      "Conclusión: Hay diferencias estadísticamente significativas en SDNN entre SR y AFIB.\n"
     ]
    }
   ],
   "source": [
    "import pandas as pd\n",
    "import scipy.stats as stats\n",
    "\n",
    "# 1. Filtrar datos de SR y AFIB para SDNN\n",
    "grupo_SR_SDNN = df[df['Rhythm'] == 'SR']['SDNN'].dropna()\n",
    "grupo_AFIB_SDNN = df[df['Rhythm'] == 'AFIB']['SDNN'].dropna()\n",
    "\n",
    "# 2. Prueba de normalidad (Shapiro-Wilk)\n",
    "print(\"Normalidad SDNN - SR:\", stats.shapiro(grupo_SR_SDNN))\n",
    "print(\"Normalidad SDNN - AFIB:\", stats.shapiro(grupo_AFIB_SDNN))\n",
    "\n",
    "# 3. Elegimos prueba: asumiremos que no hay normalidad (lo típico en HRV)\n",
    "# Prueba Mann–Whitney U\n",
    "print(\"\\nPrueba de Mann–Whitney U - SDNN\")\n",
    "u_statistic_sdnn, p_value_sdnn = stats.mannwhitneyu(grupo_SR_SDNN, grupo_AFIB_SDNN, alternative='two-sided')\n",
    "print(\"U statistic:\", u_statistic_sdnn)\n",
    "print(\"P-value:\", p_value_sdnn)\n",
    "\n",
    "# 4. Interpretación\n",
    "if p_value_sdnn < 0.05:\n",
    "    print(\"Conclusión: Hay diferencias estadísticamente significativas en SDNN entre SR y AFIB.\")\n",
    "else:\n",
    "    print(\"Conclusión: No hay diferencias estadísticamente significativas en SDNN entre SR y AFIB.\")\n"
   ]
  },
  {
   "cell_type": "markdown",
   "id": "fa5c0ff2",
   "metadata": {},
   "source": [
    "### Código para comparar SDNN entre SR y RMSSD usando pruebas estadísticas"
   ]
  },
  {
   "cell_type": "code",
   "execution_count": 38,
   "id": "86735506",
   "metadata": {},
   "outputs": [
    {
     "name": "stdout",
     "output_type": "stream",
     "text": [
      "Normalidad RMSSD - SR: ShapiroResult(statistic=np.float64(0.4243392189816204), pvalue=np.float64(1.0039737923177312e-39))\n",
      "Normalidad RMSSD - AFIB: ShapiroResult(statistic=np.float64(0.9648720875591413), pvalue=np.float64(2.7990381434057423e-12))\n",
      "\n",
      "Prueba de Mann–Whitney U - RMSSD\n",
      "U statistic: 11812.0\n",
      "P-value: 7.701256153387372e-194\n",
      "Conclusión: Hay diferencias estadísticamente significativas en RMSSD entre SR y AFIB.\n"
     ]
    }
   ],
   "source": [
    "# 1. Filtrar datos de SR y AFIB para RMSSD\n",
    "grupo_SR_RMSSD = df[df['Rhythm'] == 'SR']['RMSSD'].dropna()\n",
    "grupo_AFIB_RMSSD = df[df['Rhythm'] == 'AFIB']['RMSSD'].dropna()\n",
    "\n",
    "# 2. Prueba de normalidad (Shapiro-Wilk)\n",
    "print(\"Normalidad RMSSD - SR:\", stats.shapiro(grupo_SR_RMSSD))\n",
    "print(\"Normalidad RMSSD - AFIB:\", stats.shapiro(grupo_AFIB_RMSSD))\n",
    "\n",
    "# 3. Elegimos prueba: Mann–Whitney U\n",
    "print(\"\\nPrueba de Mann–Whitney U - RMSSD\")\n",
    "u_statistic_rmssd, p_value_rmssd = stats.mannwhitneyu(grupo_SR_RMSSD, grupo_AFIB_RMSSD, alternative='two-sided')\n",
    "print(\"U statistic:\", u_statistic_rmssd)\n",
    "print(\"P-value:\", p_value_rmssd)\n",
    "\n",
    "# 4. Interpretación\n",
    "if p_value_rmssd < 0.05:\n",
    "    print(\"Conclusión: Hay diferencias estadísticamente significativas en RMSSD entre SR y AFIB.\")\n",
    "else:\n",
    "    print(\"Conclusión: No hay diferencias estadísticamente significativas en RMSSD entre SR y AFIB.\")\n"
   ]
  },
  {
   "cell_type": "markdown",
   "id": "65986cde",
   "metadata": {},
   "source": [
    "Se realizó una prueba de normalidad mediante el test de Shapiro-Wilk para los grupos SR y AFIB, tanto en la variable SDNN como en RMSSD. Los resultados indicaron que en todos los casos los datos no siguen una distribución normal (p-valor < 0.05), por lo cual se optó por utilizar la prueba no paramétrica de Mann–Whitney U para comparar las medianas entre los grupos.\n",
    "\n",
    "En la comparación de SDNN entre SR y AFIB, se obtuvo un p-valor menor a 0.05, indicando diferencias estadísticamente significativas entre ambos grupos. De manera similar, en la comparación de RMSSD se obtuvo un p-valor menor a 0.05, evidenciando también diferencias estadísticamente significativas.\n",
    "\n",
    "Estos resultados sugieren que tanto la variabilidad global (SDNN) como la variabilidad a corto plazo (RMSSD) difieren significativamente entre individuos con ritmo sinusal normal y aquellos con fibrilación auricular, lo que refleja las alteraciones patológicas en la dinámica cardíaca asociadas a esta arritmia."
   ]
  },
  {
   "cell_type": "code",
   "execution_count": null,
   "id": "4ee81c47",
   "metadata": {},
   "outputs": [
    {
     "name": "stdout",
     "output_type": "stream",
     "text": [
      "Normalidad SDNN - SR: ShapiroResult(statistic=np.float64(0.5143232748716621), pvalue=np.float64(2.1278037976251067e-37))\n",
      "Normalidad SDNN - SB: ShapiroResult(statistic=np.float64(0.9409122262305866), pvalue=np.float64(0.0024943350618115197))\n",
      "\n",
      "Prueba de Mann–Whitney U - SDNN SR vs SB\n",
      "U statistic: 483.0\n",
      "P-value: 8.004085359949002e-41\n",
      "Conclusión: Hay diferencias estadísticamente significativas en SDNN entre SR y SB.\n",
      "\n",
      "Normalidad RMSSD - SR: ShapiroResult(statistic=np.float64(0.4243392189816204), pvalue=np.float64(1.0039737923177312e-39))\n",
      "Normalidad RMSSD - SB: ShapiroResult(statistic=np.float64(0.9554961457771637), pvalue=np.float64(0.014212441889781668))\n",
      "\n",
      "Prueba de Mann–Whitney U - RMSSD SR vs SB\n",
      "U statistic: 269.0\n",
      "P-value: 1.192956345432684e-41\n",
      "Conclusión: Hay diferencias estadísticamente significativas en RMSSD entre SR y SB.\n"
     ]
    }
   ],
   "source": [
    "# Comparación SR vs SB - SDNN\n",
    "grupo_SR_SDNN = df[df['Rhythm'] == 'SR']['SDNN'].dropna()\n",
    "grupo_SB_SDNN = df[df['Rhythm'] == 'SB']['SDNN'].dropna()\n",
    "\n",
    "print(\"Normalidad SDNN - SR:\", stats.shapiro(grupo_SR_SDNN))\n",
    "print(\"Normalidad SDNN - SB:\", stats.shapiro(grupo_SB_SDNN))\n",
    "\n",
    "print(\"\\nPrueba de Mann–Whitney U - SDNN SR vs SB\")\n",
    "u_statistic_sdnn, p_value_sdnn = stats.mannwhitneyu(grupo_SR_SDNN, grupo_SB_SDNN, alternative='two-sided')\n",
    "print(\"U statistic:\", u_statistic_sdnn)\n",
    "print(\"P-value:\", p_value_sdnn)\n",
    "\n",
    "if p_value_sdnn < 0.05:\n",
    "    print(\"Conclusión: Hay diferencias estadísticamente significativas en SDNN entre SR y SB.\")\n",
    "else:\n",
    "    print(\"Conclusión: No hay diferencias estadísticamente significativas en SDNN entre SR y SB.\")\n",
    "\n",
    "\n",
    "# Comparación SR vs SB - RMSSD\n",
    "grupo_SR_RMSSD = df[df['Rhythm'] == 'SR']['RMSSD'].dropna()\n",
    "grupo_SB_RMSSD = df[df['Rhythm'] == 'SB']['RMSSD'].dropna()\n",
    "\n",
    "print(\"\\nNormalidad RMSSD - SR:\", stats.shapiro(grupo_SR_RMSSD))\n",
    "print(\"Normalidad RMSSD - SB:\", stats.shapiro(grupo_SB_RMSSD))\n",
    "\n",
    "print(\"\\nPrueba de Mann–Whitney U - RMSSD SR vs SB\")\n",
    "u_statistic_rmssd, p_value_rmssd = stats.mannwhitneyu(grupo_SR_RMSSD, grupo_SB_RMSSD, alternative='two-sided')\n",
    "print(\"U statistic:\", u_statistic_rmssd)\n",
    "print(\"P-value:\", p_value_rmssd)\n",
    "\n",
    "if p_value_rmssd < 0.05:\n",
    "    print(\"Conclusión: Hay diferencias estadísticamente significativas en RMSSD entre SR y SB.\")\n",
    "else:\n",
    "    print(\"Conclusión: No hay diferencias estadísticamente significativas en RMSSD entre SR y SB.\")\n"
   ]
  },
  {
   "cell_type": "markdown",
   "id": "1cd3b7b0",
   "metadata": {},
   "source": [
    "Al realziar la prueba de normalidad (Shapiro-Wilk) para los grupos SR y SB tanto en SDNN como en RMSSD, vimos que los datos no siguen una distribución normal, pues tienen un p-valor < 0.05 en ambos casos, mostrando en ambos casos que tienen diferencias estadísticamente significativas entre SR y SB, por lo cual se aplicó la prueba no paramétrica de Mann–Whitney U. \n",
    "\n",
    "Además del hallazgo de diferencias estadísticamente significativas (p < 0.05), los valores de mediana de SDNN y RMSSD fueron considerablemente mayores en el grupo de bradicardia sinusal (SB) en comparación con el ritmo sinusal normal (SR), lo qeu nos indica que tiene una mayor variabilidad de la frecuencia cardíaca en pacientes con bradicardia."
   ]
  },
  {
   "cell_type": "code",
   "execution_count": null,
   "id": "9c60099c",
   "metadata": {},
   "outputs": [
    {
     "name": "stdout",
     "output_type": "stream",
     "text": [
      "\n",
      "Normalidad SDNN - ST: ShapiroResult(statistic=np.float64(0.4272750034475158), pvalue=np.float64(4.447044414093937e-53))\n",
      "Normalidad SDNN - SVT: ShapiroResult(statistic=np.float64(0.309074470587951), pvalue=np.float64(2.0605042991506674e-37))\n",
      "\n",
      "Prueba de Mann–Whitney U - SDNN ST vs SVT\n",
      "U statistic: 419251.5\n",
      "P-value: 4.433632070529688e-55\n",
      "Conclusión: Hay diferencias estadísticamente significativas en SDNN entre ST y SVT.\n",
      "\n",
      "Normalidad RMSSD - ST: ShapiroResult(statistic=np.float64(0.36939367571196224), pvalue=np.float64(1.0711612341135438e-54))\n",
      "Normalidad RMSSD - SVT: ShapiroResult(statistic=np.float64(0.2664182604078328), pvalue=np.float64(3.262417173361222e-38))\n",
      "\n",
      "Prueba de Mann–Whitney U - RMSSD ST vs SVT\n",
      "U statistic: 401383.5\n",
      "P-value: 2.527484631471987e-42\n",
      "Conclusión: Hay diferencias estadísticamente significativas en RMSSD entre ST y SVT.\n"
     ]
    }
   ],
   "source": [
    "# Comparación ST vs SVT - SDNN\n",
    "grupo_ST_SDNN = df[df['Rhythm'] == 'ST']['SDNN'].dropna()\n",
    "grupo_SVT_SDNN = df[df['Rhythm'] == 'SVT']['SDNN'].dropna()\n",
    "\n",
    "print(\"\\nNormalidad SDNN - ST:\", stats.shapiro(grupo_ST_SDNN))\n",
    "print(\"Normalidad SDNN - SVT:\", stats.shapiro(grupo_SVT_SDNN))\n",
    "\n",
    "print(\"\\nPrueba de Mann–Whitney U - SDNN ST vs SVT\")\n",
    "u_statistic_sdnn, p_value_sdnn = stats.mannwhitneyu(grupo_ST_SDNN, grupo_SVT_SDNN, alternative='two-sided')\n",
    "print(\"U statistic:\", u_statistic_sdnn)\n",
    "print(\"P-value:\", p_value_sdnn)\n",
    "\n",
    "if p_value_sdnn < 0.05:\n",
    "    print(\"Conclusión: Hay diferencias estadísticamente significativas en SDNN entre ST y SVT.\")\n",
    "else:\n",
    "    print(\"Conclusión: No hay diferencias estadísticamente significativas en SDNN entre ST y SVT.\")\n",
    "\n",
    "\n",
    "# Comparación ST vs SVT - RMSSD\n",
    "grupo_ST_RMSSD = df[df['Rhythm'] == 'ST']['RMSSD'].dropna()\n",
    "grupo_SVT_RMSSD = df[df['Rhythm'] == 'SVT']['RMSSD'].dropna()\n",
    "\n",
    "print(\"\\nNormalidad RMSSD - ST:\", stats.shapiro(grupo_ST_RMSSD))\n",
    "print(\"Normalidad RMSSD - SVT:\", stats.shapiro(grupo_SVT_RMSSD))\n",
    "\n",
    "print(\"\\nPrueba de Mann–Whitney U - RMSSD ST vs SVT\")\n",
    "u_statistic_rmssd, p_value_rmssd = stats.mannwhitneyu(grupo_ST_RMSSD, grupo_SVT_RMSSD, alternative='two-sided')\n",
    "print(\"U statistic:\", u_statistic_rmssd)\n",
    "print(\"P-value:\", p_value_rmssd)\n",
    "\n",
    "if p_value_rmssd < 0.05:\n",
    "    print(\"Conclusión: Hay diferencias estadísticamente significativas en RMSSD entre ST y SVT.\")\n",
    "else:\n",
    "    print(\"Conclusión: No hay diferencias estadísticamente significativas en RMSSD entre ST y SVT.\")\n"
   ]
  },
  {
   "cell_type": "markdown",
   "id": "f13fb805",
   "metadata": {},
   "source": [
    "Para los grupos ST y SVT, también se evaluó la normalidad mediante la prueba de Shapiro-Wilk, confirmando la ausencia de distribución normal en las variables analizadas. En consecuencia, se utilizó nuevamente la prueba de Mann–Whitney U para la comparación ya que en ambos caso se encontró que el p-valor era menor a 0.05.Aunque ST y SVT son ritmos cardiacos rápidos, se encuentra que hay diferencias en la variabilidad de la frecuencia cardiaca."
   ]
  },
  {
   "cell_type": "markdown",
   "id": "06048c6d",
   "metadata": {},
   "source": [
    "## 3. ¿Qué características logra mejor discriminación entre grupos? Consultar describir el algoritmo paso a paso de cálculo de dicha característica\n"
   ]
  },
  {
   "cell_type": "markdown",
   "id": "45516a6c",
   "metadata": {},
   "source": [
    "Ambas variables (SDNN y RMSSD) mostraron diferencias estadísticamente significativas, pues ambas tienen un p-valor bastante pequeño, mucho menor que 0.05 en todas las comparaciones realizadas (SR vs AFIB, SR vs SB, ST vs SVT). Sin embargo, la característica SDNN mostró diferencias mayores en el gráfico de cajas y bigotes, por tanto, la característica que logra mejor discriminación entre grupos es el SDNN. Ésta carácterística mide la variabilidad total de la frecuencia cardiaca\n"
   ]
  },
  {
   "cell_type": "markdown",
   "id": "3cbb63cd",
   "metadata": {},
   "source": [
    "#### Para calcular el valor de SDNN a partir de una señal de ECG, se siguen los siguientes pasos: \n",
    "1. Detección de picos R: Se identifican los latidos del corazón localizando los máximos de los complejos QRS en la señal de ECG.    Debido a que la HVR (Variabilidad de la frecuencia cardiaca), depende de los lalidos del corazón, por lo cual es últil detectar la frecuencia en la que se detectan esos picos R\n",
    "\n",
    "2. Cálculo de intervalos RR: Se mide el tiempo entre cada par de picos consecutivos R.\n",
    "\n",
    "3. Obtención de la serie de intervalos RR: Construir una lista de todos los intervalos RR obtenidos en el registro. Esta lista representaría la variación latido a latido.\n",
    "\n",
    "4. Cálculo de la media de intervalos: Para esto, se suman todos los intervalos RR y se dividen entre el número total de intervalos, obteniendo el valor promedio.\n",
    "\n",
    "5. Cálculo de la desviación estándar de los intervalos RR: Para cada intervalo, se calcula su diferencia respecto a la media, se eleva al cuadrado cada diferencia, se obtiene el promedio de estos cuadrados, y finalmente se extrae la raíz cuadrada del promedio. Ésto nos brindará la medida de dispersión de la serie RR, o sea, la SDNN.\n",
    "\n",
    "6. Reporte del SDNN: El valor final de SDNN se reporta en milisegundos (ms) y refleja la variabilidad global del ritmo cardíaco durante el registro."
   ]
  }
 ],
 "metadata": {
  "kernelspec": {
   "display_name": "Python 3",
   "language": "python",
   "name": "python3"
  },
  "language_info": {
   "codemirror_mode": {
    "name": "ipython",
    "version": 3
   },
   "file_extension": ".py",
   "mimetype": "text/x-python",
   "name": "python",
   "nbconvert_exporter": "python",
   "pygments_lexer": "ipython3",
   "version": "3.12.4"
  }
 },
 "nbformat": 4,
 "nbformat_minor": 5
}
